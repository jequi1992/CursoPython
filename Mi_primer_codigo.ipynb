{
  "nbformat": 4,
  "nbformat_minor": 0,
  "metadata": {
    "colab": {
      "provenance": [],
      "authorship_tag": "ABX9TyNaUzWM8T5YYWJbhyJ1W0kY",
      "include_colab_link": true
    },
    "kernelspec": {
      "name": "python3",
      "display_name": "Python 3"
    },
    "language_info": {
      "name": "python"
    }
  },
  "cells": [
    {
      "cell_type": "markdown",
      "metadata": {
        "id": "view-in-github",
        "colab_type": "text"
      },
      "source": [
        "<a href=\"https://colab.research.google.com/github/jequi1992/CursoPython/blob/Colab/Mi_primer_codigo.ipynb\" target=\"_parent\"><img src=\"https://colab.research.google.com/assets/colab-badge.svg\" alt=\"Open In Colab\"/></a>"
      ]
    },
    {
      "cell_type": "code",
      "execution_count": null,
      "metadata": {
        "colab": {
          "base_uri": "https://localhost:8080/"
        },
        "id": "_YprFUhQEqHd",
        "outputId": "f0f609a0-2852-49fa-cfae-bc2eb00cee7c"
      },
      "outputs": [
        {
          "output_type": "stream",
          "name": "stdout",
          "text": [
            "la Respuesta es  10\n",
            "ola Ad\n"
          ]
        }
      ],
      "source": [
        "A=5\n",
        "B=5\n",
        "R=A+B\n",
        "print(\"la Respuesta es \",R)\n",
        "m=\"Hola Adsi\"\n",
        "print(m[1:7])"
      ]
    },
    {
      "cell_type": "code",
      "source": [
        "mensaje=\"Hola Queridos Estudiantes\"\n",
        "busca=mensaje.find(\"Estudiantes\")\n",
        "print(busca)"
      ],
      "metadata": {
        "colab": {
          "base_uri": "https://localhost:8080/"
        },
        "id": "Gl0fA0w5W7xj",
        "outputId": "defd772f-bdfc-43ef-a353-4af8f00da8b7"
      },
      "execution_count": null,
      "outputs": [
        {
          "output_type": "stream",
          "name": "stdout",
          "text": [
            "14\n"
          ]
        }
      ]
    },
    {
      "cell_type": "code",
      "source": [
        "mensaje=\"Hola Adsi\"\n",
        "busca=mensaje.find(\"Adsi\")\n",
        "print(busca)"
      ],
      "metadata": {
        "colab": {
          "base_uri": "https://localhost:8080/"
        },
        "id": "qYOocEAhXLQx",
        "outputId": "44a512fa-8b4d-4d50-f342-bec9eb19f987"
      },
      "execution_count": null,
      "outputs": [
        {
          "output_type": "stream",
          "name": "stdout",
          "text": [
            "5\n"
          ]
        }
      ]
    },
    {
      "cell_type": "code",
      "source": [
        "print(\"PROGRAMA QUE TOMA DATOS PERSONALES\")\n",
        "print(\"**********************************\")\n",
        "nombre = input(\"Ingrese Nombre Persona:\")\n",
        "num_celular=input(\"Ingrese Numero Celular:\")\n",
        "direccion=input(\"Ingrese Dirección Residencia:\")\n",
        "estatura=float(input(\"Ingrese Estatura:\"))\n",
        "edad=int(input(\"ingrese edad:\"))\n",
        "print(\"Gracias\"+\" \"+nombre)"
      ],
      "metadata": {
        "colab": {
          "base_uri": "https://localhost:8080/"
        },
        "id": "eNvj7ua4bwgq",
        "outputId": "4f357452-3ea2-437d-f7d3-271d1d4ef893"
      },
      "execution_count": null,
      "outputs": [
        {
          "output_type": "stream",
          "name": "stdout",
          "text": [
            "PROGRAMA QUE TOMA DATOS PERSONALES\n",
            "**********************************\n",
            "Ingrese Nombre Persona:Jhon Esteban Quiroga Lozano\n",
            "Ingrese Numero Celular:3005997166\n",
            "Ingrese Dirección Residencia:Manzana C Casa 7 B/Arkamonica\n",
            "Ingrese Estatura:1.75\n",
            "ingrese edad:31\n",
            "Gracias Jhon Esteban Quiroga Lozano\n"
          ]
        }
      ]
    },
    {
      "cell_type": "code",
      "source": [
        "print(\"=====================\")\n",
        "print(\"Area de un Triangulo\")\n",
        "print(\"=====================\")\n",
        "nombre=input(\"Ingrese su nombre: \")\n",
        "base=int(input(\"Ingrese la base: \"))\n",
        "altura = int(input(\"Ingrese la altura: \"))\n",
        "area =(base*altura)/2\n",
        "str(area)\n",
        "print(nombre+\" \"+\" el area es =\", area)"
      ],
      "metadata": {
        "colab": {
          "base_uri": "https://localhost:8080/"
        },
        "id": "3zuiIsl_fVFc",
        "outputId": "48ef01a8-cf67-4144-c11a-5068c05187ac"
      },
      "execution_count": null,
      "outputs": [
        {
          "output_type": "stream",
          "name": "stdout",
          "text": [
            "=====================\n",
            "Area de un Triangulo\n",
            "=====================\n",
            "Ingrese su nombre: Jhon Esteban Quiroga Lozano\n",
            "Ingrese la base: 10\n",
            "Ingrese la altura: 12\n",
            "Jhon Esteban Quiroga Lozano  el area es = 60.0\n"
          ]
        }
      ]
    },
    {
      "cell_type": "code",
      "source": [
        "print(\"programa que suma dos numero\")\n",
        "a = int(input(\"ingrese Primer numero: \"))\n",
        "b = int(input(\"ingrese segundo numero: \"))\n",
        "s=a+b\n",
        "s=str(s)\n",
        "print(\"la suma es: \"+s)\n",
        "print(s)"
      ],
      "metadata": {
        "colab": {
          "base_uri": "https://localhost:8080/"
        },
        "id": "_i_ojaeygJT_",
        "outputId": "adeffff6-d3a8-42e5-a1a1-bf0d528d294b"
      },
      "execution_count": null,
      "outputs": [
        {
          "output_type": "stream",
          "name": "stdout",
          "text": [
            "programa que suma dos numero\n",
            "ingrese Primer numero: 2\n",
            "ingrese segundo numero: 5\n",
            "la suma es: 7\n",
            "7\n"
          ]
        }
      ]
    },
    {
      "cell_type": "code",
      "source": [
        "print(\"=====================\")\n",
        "print(\"Area de un circulo\")\n",
        "print(\"=====================\")\n",
        "pi=3.1416 # Este valor corresponde a la constante del valor de PI\n",
        "nombre=input(\"Ingrese su nombre: \") # Esta variable guarda el nombre del Usuario\n",
        "radio=float(input(\"Ingrese el radio: \")) # Esta variable guarda el valor de radio ingresado por el usuario.\n",
        "area =round(pi*(radio**2),2) # En esta variable se almancena el resultado de la formula para hallar el area de la circunferencia\n",
        "str(area) # Se hace la conversiòn de la variable numerica a Cadena de texto\n",
        "print(nombre+\" \"+\" el area es =\", area) #Se muestra el resultado del area segun los datos ingresados al sistema."
      ],
      "metadata": {
        "colab": {
          "base_uri": "https://localhost:8080/"
        },
        "id": "_UGXNipSg0GG",
        "outputId": "a3d762e6-5700-41aa-f201-807fe8dae119"
      },
      "execution_count": null,
      "outputs": [
        {
          "output_type": "stream",
          "name": "stdout",
          "text": [
            "=====================\n",
            "Area de un circulo\n",
            "=====================\n",
            "Ingrese su nombre: Jhon Esteban Quiroga Lozano\n",
            "Ingrese el radio: 14.2\n",
            "Jhon Esteban Quiroga Lozano  el area es = 633.47\n"
          ]
        }
      ]
    },
    {
      "cell_type": "code",
      "source": [
        "print(\"============================\")\n",
        "print(\"Programa que indica el clima\")\n",
        "print(\"============================\")\n",
        "ciudad=input(\"Ingrese la ciudad: \") # Esta variable guarda el nombre de la ciudad\n",
        "temp=int(input(\"Ingrese temperatura: \")) # Esta variable guarda el valor de la temperatura ingresada por el usuario.\n",
        "\n",
        "if temp<=20:\n",
        "   print(\"El clima de \"+ciudad+\" es frio\")\n",
        "else:\n",
        "   print(\"El clima de \"+ciudad+\" es Caliente\")"
      ],
      "metadata": {
        "colab": {
          "base_uri": "https://localhost:8080/"
        },
        "id": "wm_cMOkb0-pj",
        "outputId": "39a3ed6c-6498-4fde-fbcf-0bf5a53ec34d"
      },
      "execution_count": null,
      "outputs": [
        {
          "output_type": "stream",
          "name": "stdout",
          "text": [
            "============================\n",
            "Programa que indica el clima\n",
            "============================\n",
            "Ingrese la ciudad: Ibagué\n",
            "Ingrese temperatura: 30\n",
            "El clima de Ibagué es Caliente\n"
          ]
        }
      ]
    },
    {
      "cell_type": "code",
      "source": [
        "print(\"============================\")\n",
        "print(\"MENU OPERACIONES MATEMATICAS\")\n",
        "print(\"============================\")\n",
        "print(\"1 Suma\")\n",
        "print(\"2 Resta\")\n",
        "print(\"3 Multiplicación\")\n",
        "print(\"4 División\")\n",
        "print(\"5 Salir\")\n",
        "\n",
        "opc=int(input(\"Ingrese el numero de la operación matematica que desee realizar: \"))\n",
        "\n",
        "if opc==1:\n",
        "   numero_1=float(input(\"Ingrese el número 1: \")) # Esta variable guarda el valor del numero 1\n",
        "   numero_2=float(input(\"Ingrese el número 2: \")) # Esta variable guarda el valor del numero 2\n",
        "   suma=numero_1+numero_2\n",
        "   print(\"El resultado de la suma es \",suma)\n",
        "elif opc==2:\n",
        "   numero_1=float(input(\"Ingrese el número 1: \")) # Esta variable guarda el valor del numero 1\n",
        "   numero_2=float(input(\"Ingrese el número 2: \")) # Esta variable guarda el valor del numero 2\n",
        "   resta=numero_1-numero_2\n",
        "   print(\"El resultado de la resta es \",resta)\n",
        "elif opc==3:\n",
        "   numero_1=float(input(\"Ingrese el número 1: \")) # Esta variable guarda el valor del numero 1\n",
        "   numero_2=float(input(\"Ingrese el número 2: \")) # Esta variable guarda el valor del numero 2\n",
        "   multiplicacion=numero_1*numero_2\n",
        "   print(\"El resultado de la Multiplicación es \",multiplicacion)\n",
        "elif opc==4:\n",
        "   numero_1=float(input(\"Ingrese el número 1: \")) # Esta variable guarda el valor del numero 1\n",
        "   numero_2=float(input(\"Ingrese el número 2: \")) # Esta variable guarda el valor del numero 2\n",
        "   division=round(numero_1/numero_2,2)\n",
        "   print(\"El resultado de la división es \",division)\n",
        "elif opc==5:\n",
        "    exit\n",
        "else:\n",
        "    print(\"El valor ingresado es incorrecto, Verifique y vuelva a intentarlo\")"
      ],
      "metadata": {
        "colab": {
          "base_uri": "https://localhost:8080/"
        },
        "id": "XKhXqDB76a27",
        "outputId": "ecc3acd4-19a4-4e93-d3f8-fedf230e9f13"
      },
      "execution_count": null,
      "outputs": [
        {
          "output_type": "stream",
          "name": "stdout",
          "text": [
            "============================\n",
            "MENU OPERACIONES MATEMATICAS\n",
            "============================\n",
            "1 Suma\n",
            "2 Resta\n",
            "3 Multiplicación\n",
            "4 División\n",
            "5 Salir\n",
            "Ingrese el numero de la operación matematica que desee realizar: 15\n",
            "El valor ingresado es incorrecto, Verifique y vuelva a intentarlo\n"
          ]
        }
      ]
    },
    {
      "cell_type": "code",
      "source": [
        "print(\"============================\")\n",
        "print(\"BIENVENIDO SISTEMA CALCULO DE VACACIONES - LA TUMBADORA FIJA\")\n",
        "print(\"============================\")\n",
        "\n",
        "print(\"1 Atención al Cliente\")\n",
        "print(\"2 Logistica\")\n",
        "print(\"3 Gerencia\")\n",
        "\n",
        "opc=int(input(\"Ingrese al departamento que pertenece el trabajador: \"))\n",
        "\n",
        "\n",
        "if opc==1:\n",
        "  antiguedad=int(input(\"Ingrese su antiguedad en años: \"))\n",
        "  if antiguedad==1:\n",
        "    print(\"Sus dias de vacaciones son 6 dias\")\n",
        "  elif antiguedad<6:\n",
        "    print(\"Sus dias de vacaciones son 14 dias\")\n",
        "  else:\n",
        "    print(\"Sus dias de vacaciones son 20 dias\")\n",
        "elif opc==2:\n",
        "  antiguedad=int(input(\"Ingrese su antiguedad en años: \"))\n",
        "  if antiguedad==1:\n",
        "    print(\"Sus dias de vacaciones son 7 dias\")\n",
        "  elif antiguedad<6:\n",
        "    print(\"Sus dias de vacaciones son 15 dias\")\n",
        "  else:\n",
        "    print(\"Sus dias de vacaciones son 22 dias\")\n",
        "elif opc==3:\n",
        "  antiguedad=int(input(\"Ingrese su antiguedad en años: \"))\n",
        "  if antiguedad==1:\n",
        "    print(\"Sus dias de vacaciones son 10 dias\")\n",
        "  elif antiguedad<6:\n",
        "    print(\"Sus dias de vacaciones son 20 dias\")\n",
        "  else:\n",
        "    print(\"Sus dias de vacaciones son 30 dias\")\n",
        "else:\n",
        "  print(\"El valor ingresado es incorrecto, Verifique y vuelva a intentarlo\")"
      ],
      "metadata": {
        "colab": {
          "base_uri": "https://localhost:8080/"
        },
        "id": "8CSH0jetEqL4",
        "outputId": "b9ba6e66-571b-41b7-ab36-19fda64038ce"
      },
      "execution_count": null,
      "outputs": [
        {
          "output_type": "stream",
          "name": "stdout",
          "text": [
            "============================\n",
            "BIENVENIDO SISTEMA CALCULO DE VACACIONES - LA TUMBADORA FIJA\n",
            "============================\n",
            "1 Atención al Cliente\n",
            "2 Logistica\n",
            "3 Gerencia\n",
            "Ingrese al departamento que pertenece el trabajador: 1\n",
            "Ingrese su antiguedad en años: 9\n",
            "Sus dias de vacaciones son 20 dias\n"
          ]
        }
      ]
    },
    {
      "cell_type": "markdown",
      "source": [],
      "metadata": {
        "id": "mqmc8G-bIMUE"
      }
    }
  ]
}